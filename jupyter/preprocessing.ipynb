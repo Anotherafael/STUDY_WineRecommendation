{
 "cells": [
  {
   "cell_type": "markdown",
   "metadata": {},
   "source": [
    "### Importing the dataset"
   ]
  },
  {
   "cell_type": "code",
   "execution_count": 98,
   "metadata": {},
   "outputs": [],
   "source": [
    "import pandas as pd\n",
    "import numpy as np\n",
    "\n",
    "pd.set_option('display.max_columns', None)"
   ]
  },
  {
   "cell_type": "code",
   "execution_count": 99,
   "metadata": {},
   "outputs": [],
   "source": [
    "wines = pd.read_csv(\"../dataset/XWines_Slim_1K_wines.csv\", encoding=\"utf-8\")\n",
    "ratings = pd.read_csv(\"../dataset/XWines_Slim_150K_ratings.csv\", low_memory=False)"
   ]
  },
  {
   "cell_type": "code",
   "execution_count": 100,
   "metadata": {},
   "outputs": [
    {
     "data": {
      "text/html": [
       "<div>\n",
       "<style scoped>\n",
       "    .dataframe tbody tr th:only-of-type {\n",
       "        vertical-align: middle;\n",
       "    }\n",
       "\n",
       "    .dataframe tbody tr th {\n",
       "        vertical-align: top;\n",
       "    }\n",
       "\n",
       "    .dataframe thead th {\n",
       "        text-align: right;\n",
       "    }\n",
       "</style>\n",
       "<table border=\"1\" class=\"dataframe\">\n",
       "  <thead>\n",
       "    <tr style=\"text-align: right;\">\n",
       "      <th></th>\n",
       "      <th>WineID</th>\n",
       "      <th>WineName</th>\n",
       "      <th>Type</th>\n",
       "      <th>Elaborate</th>\n",
       "      <th>Grapes</th>\n",
       "      <th>Harmonize</th>\n",
       "      <th>ABV</th>\n",
       "      <th>Body</th>\n",
       "      <th>Acidity</th>\n",
       "      <th>Code</th>\n",
       "      <th>Country</th>\n",
       "      <th>RegionID</th>\n",
       "      <th>RegionName</th>\n",
       "      <th>WineryID</th>\n",
       "      <th>WineryName</th>\n",
       "      <th>Website</th>\n",
       "      <th>Vintages</th>\n",
       "    </tr>\n",
       "  </thead>\n",
       "  <tbody>\n",
       "    <tr>\n",
       "      <th>0</th>\n",
       "      <td>100001</td>\n",
       "      <td>Espumante Moscatel</td>\n",
       "      <td>Sparkling</td>\n",
       "      <td>Varietal/100%</td>\n",
       "      <td>['Muscat/Moscato']</td>\n",
       "      <td>['Pork', 'Rich Fish', 'Shellfish']</td>\n",
       "      <td>7.5</td>\n",
       "      <td>Medium-bodied</td>\n",
       "      <td>High</td>\n",
       "      <td>BR</td>\n",
       "      <td>Brazil</td>\n",
       "      <td>1001</td>\n",
       "      <td>Serra Gaúcha</td>\n",
       "      <td>10001</td>\n",
       "      <td>Casa Perini</td>\n",
       "      <td>http://www.vinicolaperini.com.br</td>\n",
       "      <td>[2020, 2019, 2018, 2017, 2016, 2015, 2014, 201...</td>\n",
       "    </tr>\n",
       "    <tr>\n",
       "      <th>1</th>\n",
       "      <td>100002</td>\n",
       "      <td>Ancellotta</td>\n",
       "      <td>Red</td>\n",
       "      <td>Varietal/100%</td>\n",
       "      <td>['Ancellotta']</td>\n",
       "      <td>['Beef', 'Barbecue', 'Codfish', 'Pasta', 'Pizz...</td>\n",
       "      <td>12.0</td>\n",
       "      <td>Medium-bodied</td>\n",
       "      <td>Medium</td>\n",
       "      <td>BR</td>\n",
       "      <td>Brazil</td>\n",
       "      <td>1001</td>\n",
       "      <td>Serra Gaúcha</td>\n",
       "      <td>10001</td>\n",
       "      <td>Casa Perini</td>\n",
       "      <td>http://www.vinicolaperini.com.br</td>\n",
       "      <td>[2016, 2015, 2014, 2013, 2012, 2011, 2010, 200...</td>\n",
       "    </tr>\n",
       "  </tbody>\n",
       "</table>\n",
       "</div>"
      ],
      "text/plain": [
       "   WineID            WineName       Type      Elaborate              Grapes  \\\n",
       "0  100001  Espumante Moscatel  Sparkling  Varietal/100%  ['Muscat/Moscato']   \n",
       "1  100002          Ancellotta        Red  Varietal/100%      ['Ancellotta']   \n",
       "\n",
       "                                           Harmonize   ABV           Body  \\\n",
       "0                 ['Pork', 'Rich Fish', 'Shellfish']   7.5  Medium-bodied   \n",
       "1  ['Beef', 'Barbecue', 'Codfish', 'Pasta', 'Pizz...  12.0  Medium-bodied   \n",
       "\n",
       "  Acidity Code Country  RegionID    RegionName  WineryID   WineryName  \\\n",
       "0    High   BR  Brazil      1001  Serra Gaúcha     10001  Casa Perini   \n",
       "1  Medium   BR  Brazil      1001  Serra Gaúcha     10001  Casa Perini   \n",
       "\n",
       "                            Website  \\\n",
       "0  http://www.vinicolaperini.com.br   \n",
       "1  http://www.vinicolaperini.com.br   \n",
       "\n",
       "                                            Vintages  \n",
       "0  [2020, 2019, 2018, 2017, 2016, 2015, 2014, 201...  \n",
       "1  [2016, 2015, 2014, 2013, 2012, 2011, 2010, 200...  "
      ]
     },
     "execution_count": 100,
     "metadata": {},
     "output_type": "execute_result"
    }
   ],
   "source": [
    "wines.head(2)"
   ]
  },
  {
   "cell_type": "code",
   "execution_count": 101,
   "metadata": {},
   "outputs": [
    {
     "data": {
      "text/html": [
       "<div>\n",
       "<style scoped>\n",
       "    .dataframe tbody tr th:only-of-type {\n",
       "        vertical-align: middle;\n",
       "    }\n",
       "\n",
       "    .dataframe tbody tr th {\n",
       "        vertical-align: top;\n",
       "    }\n",
       "\n",
       "    .dataframe thead th {\n",
       "        text-align: right;\n",
       "    }\n",
       "</style>\n",
       "<table border=\"1\" class=\"dataframe\">\n",
       "  <thead>\n",
       "    <tr style=\"text-align: right;\">\n",
       "      <th></th>\n",
       "      <th>RatingID</th>\n",
       "      <th>UserID</th>\n",
       "      <th>WineID</th>\n",
       "      <th>Vintage</th>\n",
       "      <th>Rating</th>\n",
       "      <th>Date</th>\n",
       "    </tr>\n",
       "  </thead>\n",
       "  <tbody>\n",
       "    <tr>\n",
       "      <th>0</th>\n",
       "      <td>143</td>\n",
       "      <td>1356810</td>\n",
       "      <td>103471</td>\n",
       "      <td>1950</td>\n",
       "      <td>4.5</td>\n",
       "      <td>2021-11-02 20:52:59</td>\n",
       "    </tr>\n",
       "    <tr>\n",
       "      <th>1</th>\n",
       "      <td>199</td>\n",
       "      <td>1173759</td>\n",
       "      <td>111415</td>\n",
       "      <td>1951</td>\n",
       "      <td>5.0</td>\n",
       "      <td>2015-08-20 17:46:26</td>\n",
       "    </tr>\n",
       "    <tr>\n",
       "      <th>2</th>\n",
       "      <td>348</td>\n",
       "      <td>1164877</td>\n",
       "      <td>111395</td>\n",
       "      <td>1952</td>\n",
       "      <td>5.0</td>\n",
       "      <td>2020-11-13 05:40:26</td>\n",
       "    </tr>\n",
       "    <tr>\n",
       "      <th>3</th>\n",
       "      <td>374</td>\n",
       "      <td>1207665</td>\n",
       "      <td>111433</td>\n",
       "      <td>1953</td>\n",
       "      <td>5.0</td>\n",
       "      <td>2017-05-05 06:44:13</td>\n",
       "    </tr>\n",
       "    <tr>\n",
       "      <th>4</th>\n",
       "      <td>834</td>\n",
       "      <td>1075841</td>\n",
       "      <td>111431</td>\n",
       "      <td>1955</td>\n",
       "      <td>5.0</td>\n",
       "      <td>2016-09-14 20:18:38</td>\n",
       "    </tr>\n",
       "  </tbody>\n",
       "</table>\n",
       "</div>"
      ],
      "text/plain": [
       "   RatingID   UserID  WineID Vintage  Rating                 Date\n",
       "0       143  1356810  103471    1950     4.5  2021-11-02 20:52:59\n",
       "1       199  1173759  111415    1951     5.0  2015-08-20 17:46:26\n",
       "2       348  1164877  111395    1952     5.0  2020-11-13 05:40:26\n",
       "3       374  1207665  111433    1953     5.0  2017-05-05 06:44:13\n",
       "4       834  1075841  111431    1955     5.0  2016-09-14 20:18:38"
      ]
     },
     "execution_count": 101,
     "metadata": {},
     "output_type": "execute_result"
    }
   ],
   "source": [
    "ratings.head(5)"
   ]
  },
  {
   "cell_type": "markdown",
   "metadata": {},
   "source": [
    "### Preprocessing"
   ]
  },
  {
   "cell_type": "markdown",
   "metadata": {},
   "source": [
    "#### Joining the datasets"
   ]
  },
  {
   "cell_type": "code",
   "execution_count": 102,
   "metadata": {},
   "outputs": [],
   "source": [
    "wines_ratings = pd.merge(wines, ratings, on=\"WineID\")"
   ]
  },
  {
   "cell_type": "markdown",
   "metadata": {},
   "source": [
    "#### Selecting the variables"
   ]
  },
  {
   "cell_type": "code",
   "execution_count": 103,
   "metadata": {},
   "outputs": [
    {
     "data": {
      "text/plain": [
       "Index(['WineID', 'WineName', 'Type', 'Elaborate', 'Grapes', 'Harmonize', 'ABV',\n",
       "       'Body', 'Acidity', 'Code', 'Country', 'RegionID', 'RegionName',\n",
       "       'WineryID', 'WineryName', 'Website', 'Vintages', 'RatingID', 'UserID',\n",
       "       'Vintage', 'Rating', 'Date'],\n",
       "      dtype='object')"
      ]
     },
     "execution_count": 103,
     "metadata": {},
     "output_type": "execute_result"
    }
   ],
   "source": [
    "wines_ratings.columns"
   ]
  },
  {
   "cell_type": "code",
   "execution_count": 104,
   "metadata": {},
   "outputs": [
    {
     "name": "stdout",
     "output_type": "stream",
     "text": [
      "<class 'pandas.core.frame.DataFrame'>\n",
      "RangeIndex: 150000 entries, 0 to 149999\n",
      "Data columns (total 22 columns):\n",
      " #   Column      Non-Null Count   Dtype  \n",
      "---  ------      --------------   -----  \n",
      " 0   WineID      150000 non-null  int64  \n",
      " 1   WineName    150000 non-null  object \n",
      " 2   Type        150000 non-null  object \n",
      " 3   Elaborate   150000 non-null  object \n",
      " 4   Grapes      150000 non-null  object \n",
      " 5   Harmonize   150000 non-null  object \n",
      " 6   ABV         150000 non-null  float64\n",
      " 7   Body        150000 non-null  object \n",
      " 8   Acidity     150000 non-null  object \n",
      " 9   Code        150000 non-null  object \n",
      " 10  Country     150000 non-null  object \n",
      " 11  RegionID    150000 non-null  int64  \n",
      " 12  RegionName  150000 non-null  object \n",
      " 13  WineryID    150000 non-null  int64  \n",
      " 14  WineryName  150000 non-null  object \n",
      " 15  Website     139935 non-null  object \n",
      " 16  Vintages    150000 non-null  object \n",
      " 17  RatingID    150000 non-null  int64  \n",
      " 18  UserID      150000 non-null  int64  \n",
      " 19  Vintage     150000 non-null  object \n",
      " 20  Rating      150000 non-null  float64\n",
      " 21  Date        150000 non-null  object \n",
      "dtypes: float64(2), int64(5), object(15)\n",
      "memory usage: 25.2+ MB\n"
     ]
    }
   ],
   "source": [
    "wines_ratings.info()"
   ]
  },
  {
   "cell_type": "code",
   "execution_count": 105,
   "metadata": {},
   "outputs": [],
   "source": [
    "wines_ratings = wines_ratings[\n",
    "    [\n",
    "        \"RatingID\",\n",
    "        \"UserID\",\n",
    "        \"Rating\",\n",
    "        \"WineName\",\n",
    "        \"Vintage\",\n",
    "        \"Type\",\n",
    "        \"Elaborate\",\n",
    "        \"Grapes\",\n",
    "        \"Harmonize\",\n",
    "        \"ABV\",\n",
    "        \"Body\",\n",
    "        \"Acidity\",\n",
    "        \"Country\",\n",
    "        \"RegionName\",\n",
    "        \"WineryName\",\n",
    "    ]\n",
    "]"
   ]
  },
  {
   "cell_type": "markdown",
   "metadata": {},
   "source": [
    "#### Replacing special characters"
   ]
  },
  {
   "cell_type": "code",
   "execution_count": 106,
   "metadata": {},
   "outputs": [
    {
     "data": {
      "text/html": [
       "<div>\n",
       "<style scoped>\n",
       "    .dataframe tbody tr th:only-of-type {\n",
       "        vertical-align: middle;\n",
       "    }\n",
       "\n",
       "    .dataframe tbody tr th {\n",
       "        vertical-align: top;\n",
       "    }\n",
       "\n",
       "    .dataframe thead th {\n",
       "        text-align: right;\n",
       "    }\n",
       "</style>\n",
       "<table border=\"1\" class=\"dataframe\">\n",
       "  <thead>\n",
       "    <tr style=\"text-align: right;\">\n",
       "      <th></th>\n",
       "      <th>RatingID</th>\n",
       "      <th>UserID</th>\n",
       "      <th>Rating</th>\n",
       "      <th>WineName</th>\n",
       "      <th>Vintage</th>\n",
       "      <th>Type</th>\n",
       "      <th>Elaborate</th>\n",
       "      <th>Grapes</th>\n",
       "      <th>Harmonize</th>\n",
       "      <th>ABV</th>\n",
       "      <th>Body</th>\n",
       "      <th>Acidity</th>\n",
       "      <th>Country</th>\n",
       "      <th>RegionName</th>\n",
       "      <th>WineryName</th>\n",
       "    </tr>\n",
       "  </thead>\n",
       "  <tbody>\n",
       "    <tr>\n",
       "      <th>0</th>\n",
       "      <td>326545</td>\n",
       "      <td>1756594</td>\n",
       "      <td>4.0</td>\n",
       "      <td>Espumante Moscatel</td>\n",
       "      <td>1999</td>\n",
       "      <td>Sparkling</td>\n",
       "      <td>Varietal/100%</td>\n",
       "      <td>['Muscat/Moscato']</td>\n",
       "      <td>['Pork', 'Rich Fish', 'Shellfish']</td>\n",
       "      <td>7.5</td>\n",
       "      <td>Medium-bodied</td>\n",
       "      <td>High</td>\n",
       "      <td>Brazil</td>\n",
       "      <td>Serra Gaúcha</td>\n",
       "      <td>Casa Perini</td>\n",
       "    </tr>\n",
       "    <tr>\n",
       "      <th>1</th>\n",
       "      <td>1314107</td>\n",
       "      <td>1219305</td>\n",
       "      <td>2.5</td>\n",
       "      <td>Espumante Moscatel</td>\n",
       "      <td>2007</td>\n",
       "      <td>Sparkling</td>\n",
       "      <td>Varietal/100%</td>\n",
       "      <td>['Muscat/Moscato']</td>\n",
       "      <td>['Pork', 'Rich Fish', 'Shellfish']</td>\n",
       "      <td>7.5</td>\n",
       "      <td>Medium-bodied</td>\n",
       "      <td>High</td>\n",
       "      <td>Brazil</td>\n",
       "      <td>Serra Gaúcha</td>\n",
       "      <td>Casa Perini</td>\n",
       "    </tr>\n",
       "    <tr>\n",
       "      <th>2</th>\n",
       "      <td>1446366</td>\n",
       "      <td>2047929</td>\n",
       "      <td>3.5</td>\n",
       "      <td>Espumante Moscatel</td>\n",
       "      <td>2008</td>\n",
       "      <td>Sparkling</td>\n",
       "      <td>Varietal/100%</td>\n",
       "      <td>['Muscat/Moscato']</td>\n",
       "      <td>['Pork', 'Rich Fish', 'Shellfish']</td>\n",
       "      <td>7.5</td>\n",
       "      <td>Medium-bodied</td>\n",
       "      <td>High</td>\n",
       "      <td>Brazil</td>\n",
       "      <td>Serra Gaúcha</td>\n",
       "      <td>Casa Perini</td>\n",
       "    </tr>\n",
       "  </tbody>\n",
       "</table>\n",
       "</div>"
      ],
      "text/plain": [
       "   RatingID   UserID  Rating            WineName Vintage       Type  \\\n",
       "0    326545  1756594     4.0  Espumante Moscatel    1999  Sparkling   \n",
       "1   1314107  1219305     2.5  Espumante Moscatel    2007  Sparkling   \n",
       "2   1446366  2047929     3.5  Espumante Moscatel    2008  Sparkling   \n",
       "\n",
       "       Elaborate              Grapes                           Harmonize  ABV  \\\n",
       "0  Varietal/100%  ['Muscat/Moscato']  ['Pork', 'Rich Fish', 'Shellfish']  7.5   \n",
       "1  Varietal/100%  ['Muscat/Moscato']  ['Pork', 'Rich Fish', 'Shellfish']  7.5   \n",
       "2  Varietal/100%  ['Muscat/Moscato']  ['Pork', 'Rich Fish', 'Shellfish']  7.5   \n",
       "\n",
       "            Body Acidity Country    RegionName   WineryName  \n",
       "0  Medium-bodied    High  Brazil  Serra Gaúcha  Casa Perini  \n",
       "1  Medium-bodied    High  Brazil  Serra Gaúcha  Casa Perini  \n",
       "2  Medium-bodied    High  Brazil  Serra Gaúcha  Casa Perini  "
      ]
     },
     "execution_count": 106,
     "metadata": {},
     "output_type": "execute_result"
    }
   ],
   "source": [
    "wines_ratings.head(3)"
   ]
  },
  {
   "cell_type": "code",
   "execution_count": 107,
   "metadata": {},
   "outputs": [
    {
     "data": {
      "text/plain": [
       "0    ['Muscat/Moscato']\n",
       "1    ['Muscat/Moscato']\n",
       "2    ['Muscat/Moscato']\n",
       "3    ['Muscat/Moscato']\n",
       "4    ['Muscat/Moscato']\n",
       "Name: Grapes, dtype: object"
      ]
     },
     "execution_count": 107,
     "metadata": {},
     "output_type": "execute_result"
    }
   ],
   "source": [
    "wines_ratings['Grapes'].head()"
   ]
  },
  {
   "cell_type": "code",
   "execution_count": 108,
   "metadata": {},
   "outputs": [
    {
     "data": {
      "text/plain": [
       "0    Muscat/Moscato\n",
       "1    Muscat/Moscato\n",
       "2    Muscat/Moscato\n",
       "3    Muscat/Moscato\n",
       "4    Muscat/Moscato\n",
       "Name: Grapes, dtype: object"
      ]
     },
     "execution_count": 108,
     "metadata": {},
     "output_type": "execute_result"
    }
   ],
   "source": [
    "wines_ratings['Grapes'] = wines_ratings['Grapes'].str.replace(\"[\", \" \").str.replace(\"]\", \" \").str.replace(\"'\", \"\").str.strip()\n",
    "wines_ratings['Grapes'].head()"
   ]
  },
  {
   "cell_type": "code",
   "execution_count": 109,
   "metadata": {},
   "outputs": [
    {
     "data": {
      "text/plain": [
       "0    Mediumbodied\n",
       "1    Mediumbodied\n",
       "2    Mediumbodied\n",
       "3    Mediumbodied\n",
       "4    Mediumbodied\n",
       "Name: Body, dtype: object"
      ]
     },
     "execution_count": 109,
     "metadata": {},
     "output_type": "execute_result"
    }
   ],
   "source": [
    "wines_ratings['Body'] = wines_ratings['Body'].str.replace('-', '')\n",
    "wines_ratings['Body'].head()"
   ]
  },
  {
   "cell_type": "code",
   "execution_count": 110,
   "metadata": {},
   "outputs": [
    {
     "data": {
      "text/plain": [
       "0    Pork, Rich Fish, Shellfish\n",
       "1    Pork, Rich Fish, Shellfish\n",
       "2    Pork, Rich Fish, Shellfish\n",
       "3    Pork, Rich Fish, Shellfish\n",
       "4    Pork, Rich Fish, Shellfish\n",
       "Name: Harmonize, dtype: object"
      ]
     },
     "execution_count": 110,
     "metadata": {},
     "output_type": "execute_result"
    }
   ],
   "source": [
    "wines_ratings[\"Harmonize\"] = wines_ratings[\"Harmonize\"].str.replace(\"[\", \" \").str.replace(\"]\", \" \").str.replace(\"'\", \"\").str.strip()\n",
    "wines_ratings[\"Harmonize\"].head()"
   ]
  },
  {
   "cell_type": "code",
   "execution_count": 111,
   "metadata": {},
   "outputs": [
    {
     "data": {
      "text/html": [
       "<div>\n",
       "<style scoped>\n",
       "    .dataframe tbody tr th:only-of-type {\n",
       "        vertical-align: middle;\n",
       "    }\n",
       "\n",
       "    .dataframe tbody tr th {\n",
       "        vertical-align: top;\n",
       "    }\n",
       "\n",
       "    .dataframe thead th {\n",
       "        text-align: right;\n",
       "    }\n",
       "</style>\n",
       "<table border=\"1\" class=\"dataframe\">\n",
       "  <thead>\n",
       "    <tr style=\"text-align: right;\">\n",
       "      <th></th>\n",
       "      <th>RatingID</th>\n",
       "      <th>UserID</th>\n",
       "      <th>Rating</th>\n",
       "      <th>WineName</th>\n",
       "      <th>Vintage</th>\n",
       "      <th>Type</th>\n",
       "      <th>Elaborate</th>\n",
       "      <th>Grapes</th>\n",
       "      <th>Harmonize</th>\n",
       "      <th>ABV</th>\n",
       "      <th>Body</th>\n",
       "      <th>Acidity</th>\n",
       "      <th>Country</th>\n",
       "      <th>RegionName</th>\n",
       "      <th>WineryName</th>\n",
       "    </tr>\n",
       "  </thead>\n",
       "  <tbody>\n",
       "    <tr>\n",
       "      <th>0</th>\n",
       "      <td>326545</td>\n",
       "      <td>1756594</td>\n",
       "      <td>4.0</td>\n",
       "      <td>Espumante Moscatel</td>\n",
       "      <td>1999</td>\n",
       "      <td>Sparkling</td>\n",
       "      <td>Varietal/100%</td>\n",
       "      <td>Muscat/Moscato</td>\n",
       "      <td>Pork, Rich Fish, Shellfish</td>\n",
       "      <td>7.5</td>\n",
       "      <td>Mediumbodied</td>\n",
       "      <td>High</td>\n",
       "      <td>Brazil</td>\n",
       "      <td>Serra Gaúcha</td>\n",
       "      <td>Casa Perini</td>\n",
       "    </tr>\n",
       "    <tr>\n",
       "      <th>1</th>\n",
       "      <td>1314107</td>\n",
       "      <td>1219305</td>\n",
       "      <td>2.5</td>\n",
       "      <td>Espumante Moscatel</td>\n",
       "      <td>2007</td>\n",
       "      <td>Sparkling</td>\n",
       "      <td>Varietal/100%</td>\n",
       "      <td>Muscat/Moscato</td>\n",
       "      <td>Pork, Rich Fish, Shellfish</td>\n",
       "      <td>7.5</td>\n",
       "      <td>Mediumbodied</td>\n",
       "      <td>High</td>\n",
       "      <td>Brazil</td>\n",
       "      <td>Serra Gaúcha</td>\n",
       "      <td>Casa Perini</td>\n",
       "    </tr>\n",
       "    <tr>\n",
       "      <th>2</th>\n",
       "      <td>1446366</td>\n",
       "      <td>2047929</td>\n",
       "      <td>3.5</td>\n",
       "      <td>Espumante Moscatel</td>\n",
       "      <td>2008</td>\n",
       "      <td>Sparkling</td>\n",
       "      <td>Varietal/100%</td>\n",
       "      <td>Muscat/Moscato</td>\n",
       "      <td>Pork, Rich Fish, Shellfish</td>\n",
       "      <td>7.5</td>\n",
       "      <td>Mediumbodied</td>\n",
       "      <td>High</td>\n",
       "      <td>Brazil</td>\n",
       "      <td>Serra Gaúcha</td>\n",
       "      <td>Casa Perini</td>\n",
       "    </tr>\n",
       "  </tbody>\n",
       "</table>\n",
       "</div>"
      ],
      "text/plain": [
       "   RatingID   UserID  Rating            WineName Vintage       Type  \\\n",
       "0    326545  1756594     4.0  Espumante Moscatel    1999  Sparkling   \n",
       "1   1314107  1219305     2.5  Espumante Moscatel    2007  Sparkling   \n",
       "2   1446366  2047929     3.5  Espumante Moscatel    2008  Sparkling   \n",
       "\n",
       "       Elaborate          Grapes                   Harmonize  ABV  \\\n",
       "0  Varietal/100%  Muscat/Moscato  Pork, Rich Fish, Shellfish  7.5   \n",
       "1  Varietal/100%  Muscat/Moscato  Pork, Rich Fish, Shellfish  7.5   \n",
       "2  Varietal/100%  Muscat/Moscato  Pork, Rich Fish, Shellfish  7.5   \n",
       "\n",
       "           Body Acidity Country    RegionName   WineryName  \n",
       "0  Mediumbodied    High  Brazil  Serra Gaúcha  Casa Perini  \n",
       "1  Mediumbodied    High  Brazil  Serra Gaúcha  Casa Perini  \n",
       "2  Mediumbodied    High  Brazil  Serra Gaúcha  Casa Perini  "
      ]
     },
     "execution_count": 111,
     "metadata": {},
     "output_type": "execute_result"
    }
   ],
   "source": [
    "wines_ratings.head(3)"
   ]
  },
  {
   "cell_type": "code",
   "execution_count": 112,
   "metadata": {},
   "outputs": [],
   "source": [
    "def check_special_characters(df, column_name, special_characters_pattern):\n",
    "    rows_with_special_characters = df[df[column_name].str.contains(special_characters_pattern, regex=True, na=False)]\n",
    "    row_count = len(rows_with_special_characters)\n",
    "    print(\"Number of rows with special characters in {}: {}\".format(column_name, row_count))\n",
    "    print(rows_with_special_characters[[column_name]].drop_duplicates().sort_values(by=column_name))"
   ]
  },
  {
   "cell_type": "code",
   "execution_count": 113,
   "metadata": {},
   "outputs": [],
   "source": [
    "import re\n",
    "def remove_special_characters(df, column_name, characters_to_remove):\n",
    "    df[column_name] = df[column_name].str.replace(f'[{re.escape(characters_to_remove)}]', ' ', regex=True)\n",
    "    return df"
   ]
  },
  {
   "cell_type": "code",
   "execution_count": 114,
   "metadata": {},
   "outputs": [],
   "source": [
    "characters_to_remove = '[!\"#$%°&\\'()*+,-./:;<=>?@[\\\\]^_`{|}~]'"
   ]
  },
  {
   "cell_type": "code",
   "execution_count": 115,
   "metadata": {},
   "outputs": [
    {
     "name": "stdout",
     "output_type": "stream",
     "text": [
      "Number of rows with special characters in WineName: 34495\n",
      "                                               WineName\n",
      "75903                                101 Moscato d'Asti\n",
      "121723               Abednego Shiraz-Grenache-Mourvedre\n",
      "88926                         Adobe Carmenère (Reserva)\n",
      "122656              Australia Felix Chardonnay-Viognier\n",
      "75939                                    Barbera D'Alba\n",
      "...                                                 ...\n",
      "121869              Wallcliffe Sauvignon Blanc-Sémillon\n",
      "122101       Wilyabrup Valley Cabernet Sauvignon-Merlot\n",
      "119028             Winemaker's Collection Blanc de Noir\n",
      "74237    Winemaker's Collection Montepulciano d'Abruzzo\n",
      "148461  Красностоп Золотовский (Krasnostop Zolotovskiy)\n",
      "\n",
      "[158 rows x 1 columns]\n"
     ]
    }
   ],
   "source": [
    "check_special_characters(wines_ratings, 'WineName', characters_to_remove)"
   ]
  },
  {
   "cell_type": "code",
   "execution_count": 116,
   "metadata": {},
   "outputs": [
    {
     "name": "stdout",
     "output_type": "stream",
     "text": [
      "Number of rows with special characters in WineName: 0\n",
      "Empty DataFrame\n",
      "Columns: [WineName]\n",
      "Index: []\n"
     ]
    }
   ],
   "source": [
    "wines_ratings = remove_special_characters(wines_ratings, 'WineName', characters_to_remove)\n",
    "check_special_characters(wines_ratings, 'WineName', characters_to_remove)"
   ]
  },
  {
   "cell_type": "code",
   "execution_count": 117,
   "metadata": {},
   "outputs": [
    {
     "name": "stdout",
     "output_type": "stream",
     "text": [
      "Number of rows with special characters in RegionName: 20160\n",
      "                                              RegionName\n",
      "148704                                     Anapa (Анапа)\n",
      "71856                                     Barbera d'Alba\n",
      "75402                                     Barbera d'Asti\n",
      "28411                                Beaujolais-Villages\n",
      "75625                                  Brachetto d'Acqui\n",
      "87301                                Central Valley (CL)\n",
      "64898                        Chablis 1er Cru 'Montmains'\n",
      "61694                                  Chambolle-Musigny\n",
      "64600                     Champagne Grand Cru 'Ambonnay'\n",
      "54559                        Champagne Grand Cru 'Bouzy'\n",
      "63514           Champagne Grand Cru 'Le Mesnil-sur-Oger'\n",
      "29073                                Châteauneuf-du-Pape\n",
      "73529                  Conegliano-Valdobbiadene Prosecco\n",
      "76774   Conegliano-Valdobbiadene Prosecco Superiore Rive\n",
      "49819                       Corton-Charlemagne Grand Cru\n",
      "84646                                     Crimeia (Крим)\n",
      "63076                                   Crémant d'Alsace\n",
      "35446                                     Côtes-du-Rhône\n",
      "76025                                    Dolcetto d'Alba\n",
      "148461                          Don Valley (Долина Дона)\n",
      "73573                                     Emilia-Romagna\n",
      "138087                                  Eola-Amity Hills\n",
      "60351                           Francs-Côtes de Bordeaux\n",
      "72853                              Friuli-Venezia Giulia\n",
      "57806                                  Gevrey-Chambertin\n",
      "43785                                         Haut-Médoc\n",
      "149218                                       Hawke's Bay\n",
      "20412                                 Jerez-Xérès-Sherry\n",
      "45054                               Languedoc-Roussillon\n",
      "61424                                      Listrac-Médoc\n",
      "64930          Meursault 1er Cru 'La pièce sous le Bois'\n",
      "74237                            Montepulciano d'Abruzzo\n",
      "83457                                   Montilla-Moriles\n",
      "74667                                     Moscato d'Asti\n",
      "55487                                    Moulis-en-Médoc\n",
      "64761                                Nuits-Saint-Georges\n",
      "84765                                     Odessa (Одеса)\n",
      "46745                                     Pessac-Léognan\n",
      "52051                                     Pouilly-Fuissé\n",
      "47156                                       Pouilly-Fumé\n",
      "30564                                      Saint-Estèphe\n",
      "31426                                       Saint-Julien\n",
      "39816                            Saint-Émilion Grand Cru\n",
      "71720                                Südtirol-Alto Adige\n",
      "148029            Taman Peninsula (Таманский полуостров)\n",
      "76685                                      Valle d'Aosta\n",
      "74987                                      Vino d'Italia\n",
      "84561                         Zakarpattia (Закарпатська)\n"
     ]
    }
   ],
   "source": [
    "check_special_characters(wines_ratings, 'RegionName', characters_to_remove)"
   ]
  },
  {
   "cell_type": "code",
   "execution_count": 118,
   "metadata": {},
   "outputs": [
    {
     "name": "stdout",
     "output_type": "stream",
     "text": [
      "Number of rows with special characters in RegionName: 0\n",
      "Empty DataFrame\n",
      "Columns: [RegionName]\n",
      "Index: []\n"
     ]
    }
   ],
   "source": [
    "wines_ratings = remove_special_characters(wines_ratings, 'RegionName', characters_to_remove)\n",
    "check_special_characters(wines_ratings, 'RegionName', characters_to_remove)"
   ]
  },
  {
   "cell_type": "code",
   "execution_count": 119,
   "metadata": {},
   "outputs": [
    {
     "name": "stdout",
     "output_type": "stream",
     "text": [
      "Number of rows with special characters in WineryName: 17792\n",
      "                                        WineryName\n",
      "104798                              Achaval-Ferrer\n",
      "59411                Barons de Rothschild (Lafite)\n",
      "61506                            Barton & Guestier\n",
      "137553                      Beaulieu Vineyard (BV)\n",
      "137297                        Beringer Main & Vine\n",
      "...                                            ...\n",
      "19832                                      Warre's\n",
      "24718                    Weingut Max Ferd. Richter\n",
      "21002              Weingut Nik Weis-St. Urbans-Hof\n",
      "24247      Winzergenossenschaft Mayschoss-Altenahr\n",
      "148461  Винодельня Ведерниковъ (Vedernikov Winery)\n",
      "\n",
      "[88 rows x 1 columns]\n"
     ]
    }
   ],
   "source": [
    "check_special_characters(wines_ratings, 'WineryName', characters_to_remove)"
   ]
  },
  {
   "cell_type": "code",
   "execution_count": 120,
   "metadata": {},
   "outputs": [
    {
     "name": "stdout",
     "output_type": "stream",
     "text": [
      "Number of rows with special characters in WineryName: 0\n",
      "Empty DataFrame\n",
      "Columns: [WineryName]\n",
      "Index: []\n"
     ]
    }
   ],
   "source": [
    "wines_ratings = remove_special_characters(wines_ratings, 'WineryName', characters_to_remove)\n",
    "check_special_characters(wines_ratings, 'WineryName', characters_to_remove)"
   ]
  },
  {
   "cell_type": "markdown",
   "metadata": {},
   "source": [
    "#### Null values"
   ]
  },
  {
   "cell_type": "code",
   "execution_count": 121,
   "metadata": {},
   "outputs": [
    {
     "data": {
      "text/plain": [
       "RatingID      0\n",
       "UserID        0\n",
       "Rating        0\n",
       "WineName      0\n",
       "Vintage       0\n",
       "Type          0\n",
       "Elaborate     0\n",
       "Grapes        0\n",
       "Harmonize     0\n",
       "ABV           0\n",
       "Body          0\n",
       "Acidity       0\n",
       "Country       0\n",
       "RegionName    0\n",
       "WineryName    0\n",
       "dtype: int64"
      ]
     },
     "execution_count": 121,
     "metadata": {},
     "output_type": "execute_result"
    }
   ],
   "source": [
    "wines_ratings.isnull().sum()"
   ]
  },
  {
   "cell_type": "markdown",
   "metadata": {},
   "source": [
    "#### Splitting list variables"
   ]
  },
  {
   "cell_type": "code",
   "execution_count": 122,
   "metadata": {},
   "outputs": [
    {
     "data": {
      "text/html": [
       "<div>\n",
       "<style scoped>\n",
       "    .dataframe tbody tr th:only-of-type {\n",
       "        vertical-align: middle;\n",
       "    }\n",
       "\n",
       "    .dataframe tbody tr th {\n",
       "        vertical-align: top;\n",
       "    }\n",
       "\n",
       "    .dataframe thead th {\n",
       "        text-align: right;\n",
       "    }\n",
       "</style>\n",
       "<table border=\"1\" class=\"dataframe\">\n",
       "  <thead>\n",
       "    <tr style=\"text-align: right;\">\n",
       "      <th></th>\n",
       "      <th>RatingID</th>\n",
       "      <th>UserID</th>\n",
       "      <th>Rating</th>\n",
       "      <th>WineName</th>\n",
       "      <th>Vintage</th>\n",
       "      <th>Type</th>\n",
       "      <th>Elaborate</th>\n",
       "      <th>Grapes</th>\n",
       "      <th>Harmonize</th>\n",
       "      <th>ABV</th>\n",
       "      <th>Body</th>\n",
       "      <th>Acidity</th>\n",
       "      <th>Country</th>\n",
       "      <th>RegionName</th>\n",
       "      <th>WineryName</th>\n",
       "    </tr>\n",
       "  </thead>\n",
       "  <tbody>\n",
       "    <tr>\n",
       "      <th>0</th>\n",
       "      <td>326545</td>\n",
       "      <td>1756594</td>\n",
       "      <td>4.0</td>\n",
       "      <td>Espumante Moscatel</td>\n",
       "      <td>1999</td>\n",
       "      <td>Sparkling</td>\n",
       "      <td>Varietal/100%</td>\n",
       "      <td>Muscat/Moscato</td>\n",
       "      <td>Pork, Rich Fish, Shellfish</td>\n",
       "      <td>7.5</td>\n",
       "      <td>Mediumbodied</td>\n",
       "      <td>High</td>\n",
       "      <td>Brazil</td>\n",
       "      <td>Serra Gaúcha</td>\n",
       "      <td>Casa Perini</td>\n",
       "    </tr>\n",
       "    <tr>\n",
       "      <th>1</th>\n",
       "      <td>1314107</td>\n",
       "      <td>1219305</td>\n",
       "      <td>2.5</td>\n",
       "      <td>Espumante Moscatel</td>\n",
       "      <td>2007</td>\n",
       "      <td>Sparkling</td>\n",
       "      <td>Varietal/100%</td>\n",
       "      <td>Muscat/Moscato</td>\n",
       "      <td>Pork, Rich Fish, Shellfish</td>\n",
       "      <td>7.5</td>\n",
       "      <td>Mediumbodied</td>\n",
       "      <td>High</td>\n",
       "      <td>Brazil</td>\n",
       "      <td>Serra Gaúcha</td>\n",
       "      <td>Casa Perini</td>\n",
       "    </tr>\n",
       "    <tr>\n",
       "      <th>2</th>\n",
       "      <td>1446366</td>\n",
       "      <td>2047929</td>\n",
       "      <td>3.5</td>\n",
       "      <td>Espumante Moscatel</td>\n",
       "      <td>2008</td>\n",
       "      <td>Sparkling</td>\n",
       "      <td>Varietal/100%</td>\n",
       "      <td>Muscat/Moscato</td>\n",
       "      <td>Pork, Rich Fish, Shellfish</td>\n",
       "      <td>7.5</td>\n",
       "      <td>Mediumbodied</td>\n",
       "      <td>High</td>\n",
       "      <td>Brazil</td>\n",
       "      <td>Serra Gaúcha</td>\n",
       "      <td>Casa Perini</td>\n",
       "    </tr>\n",
       "  </tbody>\n",
       "</table>\n",
       "</div>"
      ],
      "text/plain": [
       "   RatingID   UserID  Rating            WineName Vintage       Type  \\\n",
       "0    326545  1756594     4.0  Espumante Moscatel    1999  Sparkling   \n",
       "1   1314107  1219305     2.5  Espumante Moscatel    2007  Sparkling   \n",
       "2   1446366  2047929     3.5  Espumante Moscatel    2008  Sparkling   \n",
       "\n",
       "       Elaborate          Grapes                   Harmonize  ABV  \\\n",
       "0  Varietal/100%  Muscat/Moscato  Pork, Rich Fish, Shellfish  7.5   \n",
       "1  Varietal/100%  Muscat/Moscato  Pork, Rich Fish, Shellfish  7.5   \n",
       "2  Varietal/100%  Muscat/Moscato  Pork, Rich Fish, Shellfish  7.5   \n",
       "\n",
       "           Body Acidity Country    RegionName   WineryName  \n",
       "0  Mediumbodied    High  Brazil  Serra Gaúcha  Casa Perini  \n",
       "1  Mediumbodied    High  Brazil  Serra Gaúcha  Casa Perini  \n",
       "2  Mediumbodied    High  Brazil  Serra Gaúcha  Casa Perini  "
      ]
     },
     "execution_count": 122,
     "metadata": {},
     "output_type": "execute_result"
    }
   ],
   "source": [
    "wines_ratings.head(3)"
   ]
  },
  {
   "cell_type": "code",
   "execution_count": 123,
   "metadata": {},
   "outputs": [],
   "source": [
    "def split_and_expand_columns(df, column_name, delimiter=\"/\"):\n",
    "    expanded_columns = df[column_name].str.split(delimiter, expand=True)\n",
    "    new_columns = [f\"{column_name}{i+1}\" for i in range(expanded_columns.shape[1])]\n",
    "    expanded_columns.columns = new_columns\n",
    "\n",
    "    df = pd.concat([df, expanded_columns], axis=1)\n",
    "    df = df.fillna(\"\")\n",
    "    df = df.drop(columns=[column_name])\n",
    "\n",
    "    return df"
   ]
  },
  {
   "cell_type": "code",
   "execution_count": 124,
   "metadata": {},
   "outputs": [
    {
     "data": {
      "text/plain": [
       "0    Pork, Rich Fish, Shellfish\n",
       "1    Pork, Rich Fish, Shellfish\n",
       "2    Pork, Rich Fish, Shellfish\n",
       "3    Pork, Rich Fish, Shellfish\n",
       "4    Pork, Rich Fish, Shellfish\n",
       "Name: Harmonize, dtype: object"
      ]
     },
     "execution_count": 124,
     "metadata": {},
     "output_type": "execute_result"
    }
   ],
   "source": [
    "wines_ratings['Harmonize'].head()"
   ]
  },
  {
   "cell_type": "code",
   "execution_count": 125,
   "metadata": {},
   "outputs": [],
   "source": [
    "wines_ratings = split_and_expand_columns(wines_ratings, \"Harmonize\", delimiter=\", \")"
   ]
  },
  {
   "cell_type": "code",
   "execution_count": 126,
   "metadata": {},
   "outputs": [
    {
     "data": {
      "text/html": [
       "<div>\n",
       "<style scoped>\n",
       "    .dataframe tbody tr th:only-of-type {\n",
       "        vertical-align: middle;\n",
       "    }\n",
       "\n",
       "    .dataframe tbody tr th {\n",
       "        vertical-align: top;\n",
       "    }\n",
       "\n",
       "    .dataframe thead th {\n",
       "        text-align: right;\n",
       "    }\n",
       "</style>\n",
       "<table border=\"1\" class=\"dataframe\">\n",
       "  <thead>\n",
       "    <tr style=\"text-align: right;\">\n",
       "      <th></th>\n",
       "      <th>Harmonize7</th>\n",
       "      <th>Harmonize8</th>\n",
       "      <th>Harmonize9</th>\n",
       "      <th>Harmonize10</th>\n",
       "      <th>Harmonize11</th>\n",
       "      <th>Harmonize12</th>\n",
       "    </tr>\n",
       "  </thead>\n",
       "  <tbody>\n",
       "    <tr>\n",
       "      <th>0</th>\n",
       "      <td></td>\n",
       "      <td></td>\n",
       "      <td></td>\n",
       "      <td></td>\n",
       "      <td></td>\n",
       "      <td></td>\n",
       "    </tr>\n",
       "    <tr>\n",
       "      <th>1</th>\n",
       "      <td></td>\n",
       "      <td></td>\n",
       "      <td></td>\n",
       "      <td></td>\n",
       "      <td></td>\n",
       "      <td></td>\n",
       "    </tr>\n",
       "    <tr>\n",
       "      <th>2</th>\n",
       "      <td></td>\n",
       "      <td></td>\n",
       "      <td></td>\n",
       "      <td></td>\n",
       "      <td></td>\n",
       "      <td></td>\n",
       "    </tr>\n",
       "    <tr>\n",
       "      <th>3</th>\n",
       "      <td></td>\n",
       "      <td></td>\n",
       "      <td></td>\n",
       "      <td></td>\n",
       "      <td></td>\n",
       "      <td></td>\n",
       "    </tr>\n",
       "    <tr>\n",
       "      <th>4</th>\n",
       "      <td></td>\n",
       "      <td></td>\n",
       "      <td></td>\n",
       "      <td></td>\n",
       "      <td></td>\n",
       "      <td></td>\n",
       "    </tr>\n",
       "  </tbody>\n",
       "</table>\n",
       "</div>"
      ],
      "text/plain": [
       "  Harmonize7 Harmonize8 Harmonize9 Harmonize10 Harmonize11 Harmonize12\n",
       "0                                                                     \n",
       "1                                                                     \n",
       "2                                                                     \n",
       "3                                                                     \n",
       "4                                                                     "
      ]
     },
     "execution_count": 126,
     "metadata": {},
     "output_type": "execute_result"
    }
   ],
   "source": [
    "wines_ratings.iloc[:, -6:].head()"
   ]
  },
  {
   "cell_type": "code",
   "execution_count": 127,
   "metadata": {},
   "outputs": [],
   "source": [
    "wines_ratings = split_and_expand_columns(wines_ratings, \"Grapes\", delimiter=\", \")"
   ]
  },
  {
   "cell_type": "code",
   "execution_count": 128,
   "metadata": {},
   "outputs": [
    {
     "data": {
      "text/html": [
       "<div>\n",
       "<style scoped>\n",
       "    .dataframe tbody tr th:only-of-type {\n",
       "        vertical-align: middle;\n",
       "    }\n",
       "\n",
       "    .dataframe tbody tr th {\n",
       "        vertical-align: top;\n",
       "    }\n",
       "\n",
       "    .dataframe thead th {\n",
       "        text-align: right;\n",
       "    }\n",
       "</style>\n",
       "<table border=\"1\" class=\"dataframe\">\n",
       "  <thead>\n",
       "    <tr style=\"text-align: right;\">\n",
       "      <th></th>\n",
       "      <th>Grapes1</th>\n",
       "      <th>Grapes2</th>\n",
       "      <th>Grapes3</th>\n",
       "      <th>Grapes4</th>\n",
       "      <th>Grapes5</th>\n",
       "      <th>Grapes6</th>\n",
       "      <th>Grapes7</th>\n",
       "      <th>Grapes8</th>\n",
       "      <th>Grapes9</th>\n",
       "    </tr>\n",
       "  </thead>\n",
       "  <tbody>\n",
       "    <tr>\n",
       "      <th>118473</th>\n",
       "      <td>Cabernet Franc</td>\n",
       "      <td></td>\n",
       "      <td></td>\n",
       "      <td></td>\n",
       "      <td></td>\n",
       "      <td></td>\n",
       "      <td></td>\n",
       "      <td></td>\n",
       "      <td></td>\n",
       "    </tr>\n",
       "    <tr>\n",
       "      <th>23119</th>\n",
       "      <td>Riesling</td>\n",
       "      <td></td>\n",
       "      <td></td>\n",
       "      <td></td>\n",
       "      <td></td>\n",
       "      <td></td>\n",
       "      <td></td>\n",
       "      <td></td>\n",
       "      <td></td>\n",
       "    </tr>\n",
       "    <tr>\n",
       "      <th>16474</th>\n",
       "      <td>Touriga Nacional</td>\n",
       "      <td></td>\n",
       "      <td></td>\n",
       "      <td></td>\n",
       "      <td></td>\n",
       "      <td></td>\n",
       "      <td></td>\n",
       "      <td></td>\n",
       "      <td></td>\n",
       "    </tr>\n",
       "    <tr>\n",
       "      <th>53239</th>\n",
       "      <td>Chardonnay</td>\n",
       "      <td>Pinot Noir</td>\n",
       "      <td>Pinot Meunier</td>\n",
       "      <td></td>\n",
       "      <td></td>\n",
       "      <td></td>\n",
       "      <td></td>\n",
       "      <td></td>\n",
       "      <td></td>\n",
       "    </tr>\n",
       "    <tr>\n",
       "      <th>120569</th>\n",
       "      <td>Chardonnay</td>\n",
       "      <td></td>\n",
       "      <td></td>\n",
       "      <td></td>\n",
       "      <td></td>\n",
       "      <td></td>\n",
       "      <td></td>\n",
       "      <td></td>\n",
       "      <td></td>\n",
       "    </tr>\n",
       "    <tr>\n",
       "      <th>31522</th>\n",
       "      <td>Cabernet Sauvignon</td>\n",
       "      <td>Merlot</td>\n",
       "      <td>Cabernet Franc</td>\n",
       "      <td>Petit Verdot</td>\n",
       "      <td></td>\n",
       "      <td></td>\n",
       "      <td></td>\n",
       "      <td></td>\n",
       "      <td></td>\n",
       "    </tr>\n",
       "    <tr>\n",
       "      <th>19464</th>\n",
       "      <td>Tinta Amarela</td>\n",
       "      <td>Tinta Barroca</td>\n",
       "      <td>Touriga Franca</td>\n",
       "      <td>Tinta Roriz</td>\n",
       "      <td>Tinto Cão</td>\n",
       "      <td></td>\n",
       "      <td></td>\n",
       "      <td></td>\n",
       "      <td></td>\n",
       "    </tr>\n",
       "    <tr>\n",
       "      <th>92845</th>\n",
       "      <td>Carignan/Cariñena</td>\n",
       "      <td></td>\n",
       "      <td></td>\n",
       "      <td></td>\n",
       "      <td></td>\n",
       "      <td></td>\n",
       "      <td></td>\n",
       "      <td></td>\n",
       "      <td></td>\n",
       "    </tr>\n",
       "    <tr>\n",
       "      <th>113865</th>\n",
       "      <td>Malbec</td>\n",
       "      <td>Petit Verdot</td>\n",
       "      <td></td>\n",
       "      <td></td>\n",
       "      <td></td>\n",
       "      <td></td>\n",
       "      <td></td>\n",
       "      <td></td>\n",
       "      <td></td>\n",
       "    </tr>\n",
       "    <tr>\n",
       "      <th>80490</th>\n",
       "      <td>Tinto Fino</td>\n",
       "      <td></td>\n",
       "      <td></td>\n",
       "      <td></td>\n",
       "      <td></td>\n",
       "      <td></td>\n",
       "      <td></td>\n",
       "      <td></td>\n",
       "      <td></td>\n",
       "    </tr>\n",
       "    <tr>\n",
       "      <th>79945</th>\n",
       "      <td>Mencia</td>\n",
       "      <td></td>\n",
       "      <td></td>\n",
       "      <td></td>\n",
       "      <td></td>\n",
       "      <td></td>\n",
       "      <td></td>\n",
       "      <td></td>\n",
       "      <td></td>\n",
       "    </tr>\n",
       "    <tr>\n",
       "      <th>127485</th>\n",
       "      <td>Riesling</td>\n",
       "      <td></td>\n",
       "      <td></td>\n",
       "      <td></td>\n",
       "      <td></td>\n",
       "      <td></td>\n",
       "      <td></td>\n",
       "      <td></td>\n",
       "      <td></td>\n",
       "    </tr>\n",
       "    <tr>\n",
       "      <th>74872</th>\n",
       "      <td>Pinot Noir</td>\n",
       "      <td></td>\n",
       "      <td></td>\n",
       "      <td></td>\n",
       "      <td></td>\n",
       "      <td></td>\n",
       "      <td></td>\n",
       "      <td></td>\n",
       "      <td></td>\n",
       "    </tr>\n",
       "    <tr>\n",
       "      <th>134657</th>\n",
       "      <td>Merlot</td>\n",
       "      <td></td>\n",
       "      <td></td>\n",
       "      <td></td>\n",
       "      <td></td>\n",
       "      <td></td>\n",
       "      <td></td>\n",
       "      <td></td>\n",
       "      <td></td>\n",
       "    </tr>\n",
       "    <tr>\n",
       "      <th>89893</th>\n",
       "      <td>Cabernet Sauvignon</td>\n",
       "      <td></td>\n",
       "      <td></td>\n",
       "      <td></td>\n",
       "      <td></td>\n",
       "      <td></td>\n",
       "      <td></td>\n",
       "      <td></td>\n",
       "      <td></td>\n",
       "    </tr>\n",
       "  </tbody>\n",
       "</table>\n",
       "</div>"
      ],
      "text/plain": [
       "                   Grapes1        Grapes2         Grapes3       Grapes4  \\\n",
       "118473      Cabernet Franc                                                \n",
       "23119             Riesling                                                \n",
       "16474     Touriga Nacional                                                \n",
       "53239           Chardonnay     Pinot Noir   Pinot Meunier                 \n",
       "120569          Chardonnay                                                \n",
       "31522   Cabernet Sauvignon         Merlot  Cabernet Franc  Petit Verdot   \n",
       "19464        Tinta Amarela  Tinta Barroca  Touriga Franca   Tinta Roriz   \n",
       "92845    Carignan/Cariñena                                                \n",
       "113865              Malbec   Petit Verdot                                 \n",
       "80490           Tinto Fino                                                \n",
       "79945               Mencia                                                \n",
       "127485            Riesling                                                \n",
       "74872           Pinot Noir                                                \n",
       "134657              Merlot                                                \n",
       "89893   Cabernet Sauvignon                                                \n",
       "\n",
       "          Grapes5 Grapes6 Grapes7 Grapes8 Grapes9  \n",
       "118473                                             \n",
       "23119                                              \n",
       "16474                                              \n",
       "53239                                              \n",
       "120569                                             \n",
       "31522                                              \n",
       "19464   Tinto Cão                                  \n",
       "92845                                              \n",
       "113865                                             \n",
       "80490                                              \n",
       "79945                                              \n",
       "127485                                             \n",
       "74872                                              \n",
       "134657                                             \n",
       "89893                                              "
      ]
     },
     "execution_count": 128,
     "metadata": {},
     "output_type": "execute_result"
    }
   ],
   "source": [
    "wines_ratings.sample(15).iloc[:, -9:]"
   ]
  },
  {
   "cell_type": "code",
   "execution_count": 129,
   "metadata": {},
   "outputs": [
    {
     "data": {
      "text/plain": [
       "Elaborate\n",
       "Varietal/100%                        105462\n",
       "Assemblage/Blend                      29477\n",
       "Assemblage/Bordeaux Red Blend          6737\n",
       "Assemblage/Portuguese Red Blend        3170\n",
       "Assemblage/Champagne Blend             1631\n",
       "Assemblage/Port Blend                  1457\n",
       "Varietal/>75%                           843\n",
       "Assemblage/Portuguese White Blend       408\n",
       "Assemblage/Rhône Red Blend              381\n",
       "Assemblage/Valpolicella Red Blend       302\n",
       "Assemblage/Provence Rosé Blend           99\n",
       "Assemblage/Tuscan Red Blend              30\n",
       "Assemblage/Priorat Red Blend              3\n",
       "Name: count, dtype: int64"
      ]
     },
     "execution_count": 129,
     "metadata": {},
     "output_type": "execute_result"
    }
   ],
   "source": [
    "wines_ratings['Elaborate'].value_counts()"
   ]
  },
  {
   "cell_type": "code",
   "execution_count": 130,
   "metadata": {},
   "outputs": [],
   "source": [
    "wines_ratings = split_and_expand_columns(wines_ratings, \"Elaborate\")"
   ]
  },
  {
   "cell_type": "code",
   "execution_count": 131,
   "metadata": {},
   "outputs": [
    {
     "data": {
      "text/html": [
       "<div>\n",
       "<style scoped>\n",
       "    .dataframe tbody tr th:only-of-type {\n",
       "        vertical-align: middle;\n",
       "    }\n",
       "\n",
       "    .dataframe tbody tr th {\n",
       "        vertical-align: top;\n",
       "    }\n",
       "\n",
       "    .dataframe thead th {\n",
       "        text-align: right;\n",
       "    }\n",
       "</style>\n",
       "<table border=\"1\" class=\"dataframe\">\n",
       "  <thead>\n",
       "    <tr style=\"text-align: right;\">\n",
       "      <th></th>\n",
       "      <th>Elaborate1</th>\n",
       "      <th>Elaborate2</th>\n",
       "    </tr>\n",
       "  </thead>\n",
       "  <tbody>\n",
       "    <tr>\n",
       "      <th>134581</th>\n",
       "      <td>Varietal</td>\n",
       "      <td>100%</td>\n",
       "    </tr>\n",
       "    <tr>\n",
       "      <th>107467</th>\n",
       "      <td>Assemblage</td>\n",
       "      <td>Blend</td>\n",
       "    </tr>\n",
       "    <tr>\n",
       "      <th>61015</th>\n",
       "      <td>Assemblage</td>\n",
       "      <td>Blend</td>\n",
       "    </tr>\n",
       "    <tr>\n",
       "      <th>33745</th>\n",
       "      <td>Varietal</td>\n",
       "      <td>100%</td>\n",
       "    </tr>\n",
       "    <tr>\n",
       "      <th>135040</th>\n",
       "      <td>Varietal</td>\n",
       "      <td>100%</td>\n",
       "    </tr>\n",
       "    <tr>\n",
       "      <th>84500</th>\n",
       "      <td>Varietal</td>\n",
       "      <td>100%</td>\n",
       "    </tr>\n",
       "    <tr>\n",
       "      <th>132325</th>\n",
       "      <td>Varietal</td>\n",
       "      <td>100%</td>\n",
       "    </tr>\n",
       "    <tr>\n",
       "      <th>22288</th>\n",
       "      <td>Varietal</td>\n",
       "      <td>100%</td>\n",
       "    </tr>\n",
       "    <tr>\n",
       "      <th>60982</th>\n",
       "      <td>Assemblage</td>\n",
       "      <td>Blend</td>\n",
       "    </tr>\n",
       "    <tr>\n",
       "      <th>12825</th>\n",
       "      <td>Assemblage</td>\n",
       "      <td>Portuguese Red Blend</td>\n",
       "    </tr>\n",
       "  </tbody>\n",
       "</table>\n",
       "</div>"
      ],
      "text/plain": [
       "        Elaborate1            Elaborate2\n",
       "134581    Varietal                  100%\n",
       "107467  Assemblage                 Blend\n",
       "61015   Assemblage                 Blend\n",
       "33745     Varietal                  100%\n",
       "135040    Varietal                  100%\n",
       "84500     Varietal                  100%\n",
       "132325    Varietal                  100%\n",
       "22288     Varietal                  100%\n",
       "60982   Assemblage                 Blend\n",
       "12825   Assemblage  Portuguese Red Blend"
      ]
     },
     "execution_count": 131,
     "metadata": {},
     "output_type": "execute_result"
    }
   ],
   "source": [
    "wines_ratings.sample(10).iloc[:, -2:]"
   ]
  },
  {
   "cell_type": "code",
   "execution_count": 132,
   "metadata": {},
   "outputs": [
    {
     "data": {
      "text/plain": [
       "Type\n",
       "Red             98884\n",
       "White           24506\n",
       "Sparkling       16988\n",
       "Rosé             4714\n",
       "Dessert/Port     2522\n",
       "Dessert          2386\n",
       "Name: count, dtype: int64"
      ]
     },
     "execution_count": 132,
     "metadata": {},
     "output_type": "execute_result"
    }
   ],
   "source": [
    "wines_ratings['Type'].value_counts()"
   ]
  },
  {
   "cell_type": "code",
   "execution_count": 133,
   "metadata": {},
   "outputs": [],
   "source": [
    "wines_ratings = split_and_expand_columns(wines_ratings, \"Type\")"
   ]
  },
  {
   "cell_type": "code",
   "execution_count": 134,
   "metadata": {},
   "outputs": [
    {
     "data": {
      "text/html": [
       "<div>\n",
       "<style scoped>\n",
       "    .dataframe tbody tr th:only-of-type {\n",
       "        vertical-align: middle;\n",
       "    }\n",
       "\n",
       "    .dataframe tbody tr th {\n",
       "        vertical-align: top;\n",
       "    }\n",
       "\n",
       "    .dataframe thead th {\n",
       "        text-align: right;\n",
       "    }\n",
       "</style>\n",
       "<table border=\"1\" class=\"dataframe\">\n",
       "  <thead>\n",
       "    <tr style=\"text-align: right;\">\n",
       "      <th></th>\n",
       "      <th>Type1</th>\n",
       "      <th>Type2</th>\n",
       "    </tr>\n",
       "  </thead>\n",
       "  <tbody>\n",
       "    <tr>\n",
       "      <th>50583</th>\n",
       "      <td>Red</td>\n",
       "      <td></td>\n",
       "    </tr>\n",
       "    <tr>\n",
       "      <th>80311</th>\n",
       "      <td>Red</td>\n",
       "      <td></td>\n",
       "    </tr>\n",
       "    <tr>\n",
       "      <th>24177</th>\n",
       "      <td>Red</td>\n",
       "      <td></td>\n",
       "    </tr>\n",
       "    <tr>\n",
       "      <th>5966</th>\n",
       "      <td>Sparkling</td>\n",
       "      <td></td>\n",
       "    </tr>\n",
       "    <tr>\n",
       "      <th>111272</th>\n",
       "      <td>Red</td>\n",
       "      <td></td>\n",
       "    </tr>\n",
       "    <tr>\n",
       "      <th>97999</th>\n",
       "      <td>Red</td>\n",
       "      <td></td>\n",
       "    </tr>\n",
       "    <tr>\n",
       "      <th>103854</th>\n",
       "      <td>Red</td>\n",
       "      <td></td>\n",
       "    </tr>\n",
       "    <tr>\n",
       "      <th>118848</th>\n",
       "      <td>Sparkling</td>\n",
       "      <td></td>\n",
       "    </tr>\n",
       "    <tr>\n",
       "      <th>58573</th>\n",
       "      <td>White</td>\n",
       "      <td></td>\n",
       "    </tr>\n",
       "    <tr>\n",
       "      <th>109258</th>\n",
       "      <td>White</td>\n",
       "      <td></td>\n",
       "    </tr>\n",
       "  </tbody>\n",
       "</table>\n",
       "</div>"
      ],
      "text/plain": [
       "            Type1 Type2\n",
       "50583         Red      \n",
       "80311         Red      \n",
       "24177         Red      \n",
       "5966    Sparkling      \n",
       "111272        Red      \n",
       "97999         Red      \n",
       "103854        Red      \n",
       "118848  Sparkling      \n",
       "58573       White      \n",
       "109258      White      "
      ]
     },
     "execution_count": 134,
     "metadata": {},
     "output_type": "execute_result"
    }
   ],
   "source": [
    "wines_ratings.sample(10).iloc[:, -2:]"
   ]
  },
  {
   "cell_type": "markdown",
   "metadata": {},
   "source": [
    "#### Alcohol beverage outliers"
   ]
  },
  {
   "cell_type": "code",
   "execution_count": 135,
   "metadata": {},
   "outputs": [
    {
     "data": {
      "text/plain": [
       "count    150000.000000\n",
       "mean         13.400817\n",
       "std           1.563714\n",
       "min           4.000000\n",
       "25%          12.500000\n",
       "50%          13.500000\n",
       "75%          14.000000\n",
       "max          50.000000\n",
       "Name: ABV, dtype: float64"
      ]
     },
     "execution_count": 135,
     "metadata": {},
     "output_type": "execute_result"
    }
   ],
   "source": [
    "wines_ratings['ABV'].describe()"
   ]
  },
  {
   "cell_type": "code",
   "execution_count": 136,
   "metadata": {},
   "outputs": [
    {
     "data": {
      "text/plain": [
       "ABV\n",
       "14.5    22860\n",
       "12.5    21716\n",
       "13.5    20672\n",
       "14.0    20567\n",
       "13.0    19244\n",
       "        ...  \n",
       "38.5        4\n",
       "18.5        3\n",
       "39.0        2\n",
       "50.0        2\n",
       "44.0        2\n",
       "Name: count, Length: 76, dtype: int64"
      ]
     },
     "execution_count": 136,
     "metadata": {},
     "output_type": "execute_result"
    }
   ],
   "source": [
    "wines_ratings['ABV'].value_counts()"
   ]
  },
  {
   "cell_type": "code",
   "execution_count": 137,
   "metadata": {},
   "outputs": [],
   "source": [
    "def transform_values(df, column_name):\n",
    "    df[column_name] = np.where(df[column_name] > 15, 15, df[column_name])\n",
    "    df[column_name] = np.where(df[column_name] < 8, 8, df[column_name])\n",
    "    return df"
   ]
  },
  {
   "cell_type": "code",
   "execution_count": 138,
   "metadata": {},
   "outputs": [],
   "source": [
    "wines_ratings = transform_values(wines_ratings, 'ABV')"
   ]
  },
  {
   "cell_type": "code",
   "execution_count": 139,
   "metadata": {},
   "outputs": [
    {
     "data": {
      "text/plain": [
       "count    150000.000000\n",
       "mean         13.310263\n",
       "std           1.150805\n",
       "min           8.000000\n",
       "25%          12.500000\n",
       "50%          13.500000\n",
       "75%          14.000000\n",
       "max          15.000000\n",
       "Name: ABV, dtype: float64"
      ]
     },
     "execution_count": 139,
     "metadata": {},
     "output_type": "execute_result"
    }
   ],
   "source": [
    "wines_ratings['ABV'].describe()"
   ]
  },
  {
   "cell_type": "code",
   "execution_count": 140,
   "metadata": {},
   "outputs": [
    {
     "data": {
      "text/plain": [
       "ABV\n",
       "14.5    22860\n",
       "12.5    21716\n",
       "13.5    20672\n",
       "14.0    20567\n",
       "13.0    19244\n",
       "12.0    10234\n",
       "15.0     5837\n",
       "13.7     2724\n",
       "13.9     2694\n",
       "12.8     2627\n",
       "13.2     2175\n",
       "11.5     1987\n",
       "13.8     1921\n",
       "8.0      1882\n",
       "11.0     1720\n",
       "14.8     1215\n",
       "14.2     1159\n",
       "14.9      945\n",
       "12.3      914\n",
       "12.9      865\n",
       "14.1      810\n",
       "9.5       804\n",
       "13.1      752\n",
       "13.3      632\n",
       "14.4      473\n",
       "10.5      436\n",
       "10.0      348\n",
       "12.2      326\n",
       "14.6      267\n",
       "12.4      200\n",
       "14.3      196\n",
       "9.0       178\n",
       "13.4      148\n",
       "14.7      145\n",
       "9.8       116\n",
       "13.6       55\n",
       "11.9       37\n",
       "11.8       32\n",
       "9.3        18\n",
       "11.4       18\n",
       "12.7       12\n",
       "11.2       10\n",
       "12.6        8\n",
       "8.5         8\n",
       "12.1        8\n",
       "10.2        5\n",
       "Name: count, dtype: int64"
      ]
     },
     "execution_count": 140,
     "metadata": {},
     "output_type": "execute_result"
    }
   ],
   "source": [
    "wines_ratings['ABV'].value_counts()"
   ]
  },
  {
   "cell_type": "markdown",
   "metadata": {},
   "source": [
    "### Exporting"
   ]
  },
  {
   "cell_type": "code",
   "execution_count": 141,
   "metadata": {},
   "outputs": [],
   "source": [
    "wines_ratings.to_csv('../dataset/XWines_with_Ratings.csv', index=False)"
   ]
  }
 ],
 "metadata": {
  "kernelspec": {
   "display_name": ".venv",
   "language": "python",
   "name": "python3"
  },
  "language_info": {
   "codemirror_mode": {
    "name": "ipython",
    "version": 3
   },
   "file_extension": ".py",
   "mimetype": "text/x-python",
   "name": "python",
   "nbconvert_exporter": "python",
   "pygments_lexer": "ipython3",
   "version": "3.12.2"
  }
 },
 "nbformat": 4,
 "nbformat_minor": 2
}
