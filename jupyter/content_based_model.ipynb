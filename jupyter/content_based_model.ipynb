{
 "cells": [
  {
   "cell_type": "markdown",
   "metadata": {},
   "source": [
    "### Importing the dataset"
   ]
  },
  {
   "cell_type": "code",
   "execution_count": 123,
   "metadata": {},
   "outputs": [],
   "source": [
    "import pandas as pd\n",
    "from sklearn.feature_extraction.text import TfidfVectorizer\n",
    "from sklearn.metrics.pairwise import linear_kernel\n",
    "import joblib\n",
    "\n",
    "pd.set_option('display.max_columns', None)\n",
    "pd.set_option('display.max_colwidth', None)"
   ]
  },
  {
   "cell_type": "code",
   "execution_count": 124,
   "metadata": {},
   "outputs": [],
   "source": [
    "df = pd.read_csv('../dataset/XWines_with_Ratings.csv', low_memory=False)"
   ]
  },
  {
   "cell_type": "code",
   "execution_count": 125,
   "metadata": {},
   "outputs": [
    {
     "data": {
      "text/html": [
       "<div>\n",
       "<style scoped>\n",
       "    .dataframe tbody tr th:only-of-type {\n",
       "        vertical-align: middle;\n",
       "    }\n",
       "\n",
       "    .dataframe tbody tr th {\n",
       "        vertical-align: top;\n",
       "    }\n",
       "\n",
       "    .dataframe thead th {\n",
       "        text-align: right;\n",
       "    }\n",
       "</style>\n",
       "<table border=\"1\" class=\"dataframe\">\n",
       "  <thead>\n",
       "    <tr style=\"text-align: right;\">\n",
       "      <th></th>\n",
       "      <th>RatingID</th>\n",
       "      <th>UserID</th>\n",
       "      <th>Rating</th>\n",
       "      <th>WineName</th>\n",
       "      <th>Vintage</th>\n",
       "      <th>ABV</th>\n",
       "      <th>Body</th>\n",
       "      <th>Acidity</th>\n",
       "      <th>Country</th>\n",
       "      <th>RegionName</th>\n",
       "      <th>WineryName</th>\n",
       "      <th>Harmonize1</th>\n",
       "      <th>Harmonize2</th>\n",
       "      <th>Harmonize3</th>\n",
       "      <th>Harmonize4</th>\n",
       "      <th>Harmonize5</th>\n",
       "      <th>Harmonize6</th>\n",
       "      <th>Harmonize7</th>\n",
       "      <th>Harmonize8</th>\n",
       "      <th>Harmonize9</th>\n",
       "      <th>Harmonize10</th>\n",
       "      <th>Harmonize11</th>\n",
       "      <th>Harmonize12</th>\n",
       "      <th>Grapes1</th>\n",
       "      <th>Grapes2</th>\n",
       "      <th>Grapes3</th>\n",
       "      <th>Grapes4</th>\n",
       "      <th>Grapes5</th>\n",
       "      <th>Grapes6</th>\n",
       "      <th>Grapes7</th>\n",
       "      <th>Grapes8</th>\n",
       "      <th>Grapes9</th>\n",
       "      <th>Elaborate1</th>\n",
       "      <th>Elaborate2</th>\n",
       "      <th>Type1</th>\n",
       "      <th>Type2</th>\n",
       "    </tr>\n",
       "  </thead>\n",
       "  <tbody>\n",
       "    <tr>\n",
       "      <th>0</th>\n",
       "      <td>326545</td>\n",
       "      <td>1756594</td>\n",
       "      <td>4.0</td>\n",
       "      <td>Espumante Moscatel</td>\n",
       "      <td>1999</td>\n",
       "      <td>8.0</td>\n",
       "      <td>Mediumbodied</td>\n",
       "      <td>High</td>\n",
       "      <td>Brazil</td>\n",
       "      <td>Serra Gaúcha</td>\n",
       "      <td>Casa Perini</td>\n",
       "      <td>Pork</td>\n",
       "      <td>Rich Fish</td>\n",
       "      <td>Shellfish</td>\n",
       "      <td>NaN</td>\n",
       "      <td>NaN</td>\n",
       "      <td>NaN</td>\n",
       "      <td>NaN</td>\n",
       "      <td>NaN</td>\n",
       "      <td>NaN</td>\n",
       "      <td>NaN</td>\n",
       "      <td>NaN</td>\n",
       "      <td>NaN</td>\n",
       "      <td>Muscat/Moscato</td>\n",
       "      <td>NaN</td>\n",
       "      <td>NaN</td>\n",
       "      <td>NaN</td>\n",
       "      <td>NaN</td>\n",
       "      <td>NaN</td>\n",
       "      <td>NaN</td>\n",
       "      <td>NaN</td>\n",
       "      <td>NaN</td>\n",
       "      <td>Varietal</td>\n",
       "      <td>100%</td>\n",
       "      <td>Sparkling</td>\n",
       "      <td>NaN</td>\n",
       "    </tr>\n",
       "    <tr>\n",
       "      <th>1</th>\n",
       "      <td>1314107</td>\n",
       "      <td>1219305</td>\n",
       "      <td>2.5</td>\n",
       "      <td>Espumante Moscatel</td>\n",
       "      <td>2007</td>\n",
       "      <td>8.0</td>\n",
       "      <td>Mediumbodied</td>\n",
       "      <td>High</td>\n",
       "      <td>Brazil</td>\n",
       "      <td>Serra Gaúcha</td>\n",
       "      <td>Casa Perini</td>\n",
       "      <td>Pork</td>\n",
       "      <td>Rich Fish</td>\n",
       "      <td>Shellfish</td>\n",
       "      <td>NaN</td>\n",
       "      <td>NaN</td>\n",
       "      <td>NaN</td>\n",
       "      <td>NaN</td>\n",
       "      <td>NaN</td>\n",
       "      <td>NaN</td>\n",
       "      <td>NaN</td>\n",
       "      <td>NaN</td>\n",
       "      <td>NaN</td>\n",
       "      <td>Muscat/Moscato</td>\n",
       "      <td>NaN</td>\n",
       "      <td>NaN</td>\n",
       "      <td>NaN</td>\n",
       "      <td>NaN</td>\n",
       "      <td>NaN</td>\n",
       "      <td>NaN</td>\n",
       "      <td>NaN</td>\n",
       "      <td>NaN</td>\n",
       "      <td>Varietal</td>\n",
       "      <td>100%</td>\n",
       "      <td>Sparkling</td>\n",
       "      <td>NaN</td>\n",
       "    </tr>\n",
       "    <tr>\n",
       "      <th>2</th>\n",
       "      <td>1446366</td>\n",
       "      <td>2047929</td>\n",
       "      <td>3.5</td>\n",
       "      <td>Espumante Moscatel</td>\n",
       "      <td>2008</td>\n",
       "      <td>8.0</td>\n",
       "      <td>Mediumbodied</td>\n",
       "      <td>High</td>\n",
       "      <td>Brazil</td>\n",
       "      <td>Serra Gaúcha</td>\n",
       "      <td>Casa Perini</td>\n",
       "      <td>Pork</td>\n",
       "      <td>Rich Fish</td>\n",
       "      <td>Shellfish</td>\n",
       "      <td>NaN</td>\n",
       "      <td>NaN</td>\n",
       "      <td>NaN</td>\n",
       "      <td>NaN</td>\n",
       "      <td>NaN</td>\n",
       "      <td>NaN</td>\n",
       "      <td>NaN</td>\n",
       "      <td>NaN</td>\n",
       "      <td>NaN</td>\n",
       "      <td>Muscat/Moscato</td>\n",
       "      <td>NaN</td>\n",
       "      <td>NaN</td>\n",
       "      <td>NaN</td>\n",
       "      <td>NaN</td>\n",
       "      <td>NaN</td>\n",
       "      <td>NaN</td>\n",
       "      <td>NaN</td>\n",
       "      <td>NaN</td>\n",
       "      <td>Varietal</td>\n",
       "      <td>100%</td>\n",
       "      <td>Sparkling</td>\n",
       "      <td>NaN</td>\n",
       "    </tr>\n",
       "    <tr>\n",
       "      <th>3</th>\n",
       "      <td>1448872</td>\n",
       "      <td>1006545</td>\n",
       "      <td>5.0</td>\n",
       "      <td>Espumante Moscatel</td>\n",
       "      <td>2008</td>\n",
       "      <td>8.0</td>\n",
       "      <td>Mediumbodied</td>\n",
       "      <td>High</td>\n",
       "      <td>Brazil</td>\n",
       "      <td>Serra Gaúcha</td>\n",
       "      <td>Casa Perini</td>\n",
       "      <td>Pork</td>\n",
       "      <td>Rich Fish</td>\n",
       "      <td>Shellfish</td>\n",
       "      <td>NaN</td>\n",
       "      <td>NaN</td>\n",
       "      <td>NaN</td>\n",
       "      <td>NaN</td>\n",
       "      <td>NaN</td>\n",
       "      <td>NaN</td>\n",
       "      <td>NaN</td>\n",
       "      <td>NaN</td>\n",
       "      <td>NaN</td>\n",
       "      <td>Muscat/Moscato</td>\n",
       "      <td>NaN</td>\n",
       "      <td>NaN</td>\n",
       "      <td>NaN</td>\n",
       "      <td>NaN</td>\n",
       "      <td>NaN</td>\n",
       "      <td>NaN</td>\n",
       "      <td>NaN</td>\n",
       "      <td>NaN</td>\n",
       "      <td>Varietal</td>\n",
       "      <td>100%</td>\n",
       "      <td>Sparkling</td>\n",
       "      <td>NaN</td>\n",
       "    </tr>\n",
       "    <tr>\n",
       "      <th>4</th>\n",
       "      <td>1657104</td>\n",
       "      <td>1400823</td>\n",
       "      <td>2.0</td>\n",
       "      <td>Espumante Moscatel</td>\n",
       "      <td>2008</td>\n",
       "      <td>8.0</td>\n",
       "      <td>Mediumbodied</td>\n",
       "      <td>High</td>\n",
       "      <td>Brazil</td>\n",
       "      <td>Serra Gaúcha</td>\n",
       "      <td>Casa Perini</td>\n",
       "      <td>Pork</td>\n",
       "      <td>Rich Fish</td>\n",
       "      <td>Shellfish</td>\n",
       "      <td>NaN</td>\n",
       "      <td>NaN</td>\n",
       "      <td>NaN</td>\n",
       "      <td>NaN</td>\n",
       "      <td>NaN</td>\n",
       "      <td>NaN</td>\n",
       "      <td>NaN</td>\n",
       "      <td>NaN</td>\n",
       "      <td>NaN</td>\n",
       "      <td>Muscat/Moscato</td>\n",
       "      <td>NaN</td>\n",
       "      <td>NaN</td>\n",
       "      <td>NaN</td>\n",
       "      <td>NaN</td>\n",
       "      <td>NaN</td>\n",
       "      <td>NaN</td>\n",
       "      <td>NaN</td>\n",
       "      <td>NaN</td>\n",
       "      <td>Varietal</td>\n",
       "      <td>100%</td>\n",
       "      <td>Sparkling</td>\n",
       "      <td>NaN</td>\n",
       "    </tr>\n",
       "  </tbody>\n",
       "</table>\n",
       "</div>"
      ],
      "text/plain": [
       "   RatingID   UserID  Rating            WineName Vintage  ABV          Body  \\\n",
       "0    326545  1756594     4.0  Espumante Moscatel    1999  8.0  Mediumbodied   \n",
       "1   1314107  1219305     2.5  Espumante Moscatel    2007  8.0  Mediumbodied   \n",
       "2   1446366  2047929     3.5  Espumante Moscatel    2008  8.0  Mediumbodied   \n",
       "3   1448872  1006545     5.0  Espumante Moscatel    2008  8.0  Mediumbodied   \n",
       "4   1657104  1400823     2.0  Espumante Moscatel    2008  8.0  Mediumbodied   \n",
       "\n",
       "  Acidity Country    RegionName   WineryName Harmonize1 Harmonize2 Harmonize3  \\\n",
       "0    High  Brazil  Serra Gaúcha  Casa Perini       Pork  Rich Fish  Shellfish   \n",
       "1    High  Brazil  Serra Gaúcha  Casa Perini       Pork  Rich Fish  Shellfish   \n",
       "2    High  Brazil  Serra Gaúcha  Casa Perini       Pork  Rich Fish  Shellfish   \n",
       "3    High  Brazil  Serra Gaúcha  Casa Perini       Pork  Rich Fish  Shellfish   \n",
       "4    High  Brazil  Serra Gaúcha  Casa Perini       Pork  Rich Fish  Shellfish   \n",
       "\n",
       "  Harmonize4 Harmonize5 Harmonize6 Harmonize7 Harmonize8 Harmonize9  \\\n",
       "0        NaN        NaN        NaN        NaN        NaN        NaN   \n",
       "1        NaN        NaN        NaN        NaN        NaN        NaN   \n",
       "2        NaN        NaN        NaN        NaN        NaN        NaN   \n",
       "3        NaN        NaN        NaN        NaN        NaN        NaN   \n",
       "4        NaN        NaN        NaN        NaN        NaN        NaN   \n",
       "\n",
       "  Harmonize10 Harmonize11 Harmonize12         Grapes1 Grapes2 Grapes3 Grapes4  \\\n",
       "0         NaN         NaN         NaN  Muscat/Moscato     NaN     NaN     NaN   \n",
       "1         NaN         NaN         NaN  Muscat/Moscato     NaN     NaN     NaN   \n",
       "2         NaN         NaN         NaN  Muscat/Moscato     NaN     NaN     NaN   \n",
       "3         NaN         NaN         NaN  Muscat/Moscato     NaN     NaN     NaN   \n",
       "4         NaN         NaN         NaN  Muscat/Moscato     NaN     NaN     NaN   \n",
       "\n",
       "  Grapes5 Grapes6 Grapes7 Grapes8 Grapes9 Elaborate1 Elaborate2      Type1  \\\n",
       "0     NaN     NaN     NaN     NaN     NaN   Varietal       100%  Sparkling   \n",
       "1     NaN     NaN     NaN     NaN     NaN   Varietal       100%  Sparkling   \n",
       "2     NaN     NaN     NaN     NaN     NaN   Varietal       100%  Sparkling   \n",
       "3     NaN     NaN     NaN     NaN     NaN   Varietal       100%  Sparkling   \n",
       "4     NaN     NaN     NaN     NaN     NaN   Varietal       100%  Sparkling   \n",
       "\n",
       "  Type2  \n",
       "0   NaN  \n",
       "1   NaN  \n",
       "2   NaN  \n",
       "3   NaN  \n",
       "4   NaN  "
      ]
     },
     "execution_count": 125,
     "metadata": {},
     "output_type": "execute_result"
    }
   ],
   "source": [
    "df.head()"
   ]
  },
  {
   "cell_type": "code",
   "execution_count": 126,
   "metadata": {},
   "outputs": [
    {
     "name": "stdout",
     "output_type": "stream",
     "text": [
      "<class 'pandas.core.frame.DataFrame'>\n",
      "RangeIndex: 150000 entries, 0 to 149999\n",
      "Data columns (total 36 columns):\n",
      " #   Column       Non-Null Count   Dtype  \n",
      "---  ------       --------------   -----  \n",
      " 0   RatingID     150000 non-null  int64  \n",
      " 1   UserID       150000 non-null  int64  \n",
      " 2   Rating       150000 non-null  float64\n",
      " 3   WineName     150000 non-null  object \n",
      " 4   Vintage      150000 non-null  object \n",
      " 5   ABV          150000 non-null  float64\n",
      " 6   Body         150000 non-null  object \n",
      " 7   Acidity      150000 non-null  object \n",
      " 8   Country      150000 non-null  object \n",
      " 9   RegionName   150000 non-null  object \n",
      " 10  WineryName   150000 non-null  object \n",
      " 11  Harmonize1   150000 non-null  object \n",
      " 12  Harmonize2   149778 non-null  object \n",
      " 13  Harmonize3   146425 non-null  object \n",
      " 14  Harmonize4   108107 non-null  object \n",
      " 15  Harmonize5   30055 non-null   object \n",
      " 16  Harmonize6   12094 non-null   object \n",
      " 17  Harmonize7   1109 non-null    object \n",
      " 18  Harmonize8   670 non-null     object \n",
      " 19  Harmonize9   391 non-null     object \n",
      " 20  Harmonize10  250 non-null     object \n",
      " 21  Harmonize11  202 non-null     object \n",
      " 22  Harmonize12  202 non-null     object \n",
      " 23  Grapes1      150000 non-null  object \n",
      " 24  Grapes2      44538 non-null   object \n",
      " 25  Grapes3      28735 non-null   object \n",
      " 26  Grapes4      15134 non-null   object \n",
      " 27  Grapes5      5070 non-null    object \n",
      " 28  Grapes6      1866 non-null    object \n",
      " 29  Grapes7      919 non-null     object \n",
      " 30  Grapes8      862 non-null     object \n",
      " 31  Grapes9      804 non-null     object \n",
      " 32  Elaborate1   150000 non-null  object \n",
      " 33  Elaborate2   150000 non-null  object \n",
      " 34  Type1        150000 non-null  object \n",
      " 35  Type2        2522 non-null    object \n",
      "dtypes: float64(2), int64(2), object(32)\n",
      "memory usage: 41.2+ MB\n"
     ]
    }
   ],
   "source": [
    "df.info()"
   ]
  },
  {
   "cell_type": "markdown",
   "metadata": {},
   "source": [
    "### Combined the variables into one column"
   ]
  },
  {
   "cell_type": "code",
   "execution_count": 127,
   "metadata": {},
   "outputs": [],
   "source": [
    "df = df.fillna(\"\")"
   ]
  },
  {
   "cell_type": "code",
   "execution_count": 128,
   "metadata": {},
   "outputs": [],
   "source": [
    "common_columns = ['WineName', 'Body', 'Acidity', 'Country', 'RegionName', 'WineryName']\n",
    "grapes_columns = [f'Grapes{i}' for i in range(1, 10)]\n",
    "harmonize_columns = [f'Harmonize{i}' for i in range(1, 13)]\n",
    "type_columns = [f'Type{i}' for i in range(1, 2)]\n",
    "elaborate_columns = [f'Elaborate{i}' for i in range(1, 2)]\n",
    "all_columns = common_columns + grapes_columns + harmonize_columns + type_columns + elaborate_columns\n",
    "df['Attributes'] = df[all_columns].astype(str).agg(' '.join, axis=1)"
   ]
  },
  {
   "cell_type": "code",
   "execution_count": 129,
   "metadata": {},
   "outputs": [
    {
     "data": {
      "text/plain": [
       "0    Espumante Moscatel Mediumbodied High Brazil Serra Gaúcha Casa Perini Muscat/Moscato         Pork Rich Fish Shellfish          Sparkling Varietal\n",
       "1    Espumante Moscatel Mediumbodied High Brazil Serra Gaúcha Casa Perini Muscat/Moscato         Pork Rich Fish Shellfish          Sparkling Varietal\n",
       "2    Espumante Moscatel Mediumbodied High Brazil Serra Gaúcha Casa Perini Muscat/Moscato         Pork Rich Fish Shellfish          Sparkling Varietal\n",
       "3    Espumante Moscatel Mediumbodied High Brazil Serra Gaúcha Casa Perini Muscat/Moscato         Pork Rich Fish Shellfish          Sparkling Varietal\n",
       "4    Espumante Moscatel Mediumbodied High Brazil Serra Gaúcha Casa Perini Muscat/Moscato         Pork Rich Fish Shellfish          Sparkling Varietal\n",
       "Name: Attributes, dtype: object"
      ]
     },
     "execution_count": 129,
     "metadata": {},
     "output_type": "execute_result"
    }
   ],
   "source": [
    "df['Attributes'].head()"
   ]
  },
  {
   "cell_type": "markdown",
   "metadata": {},
   "source": [
    "### Remove duplicated rows in Attributes and WineName"
   ]
  },
  {
   "cell_type": "code",
   "execution_count": 130,
   "metadata": {},
   "outputs": [
    {
     "data": {
      "text/plain": [
       "'Duplicated in Attributes: 148993'"
      ]
     },
     "metadata": {},
     "output_type": "display_data"
    },
    {
     "data": {
      "text/plain": [
       "'Duplicated in WineName: 149197'"
      ]
     },
     "metadata": {},
     "output_type": "display_data"
    },
    {
     "data": {
      "text/plain": [
       "'Shape: (150000, 37)'"
      ]
     },
     "metadata": {},
     "output_type": "display_data"
    }
   ],
   "source": [
    "display(f'Duplicated in Attributes: {df[\"Attributes\"].duplicated().sum()}')\n",
    "display(f'Duplicated in WineName: {df[\"WineName\"].duplicated().sum()}')\n",
    "display(f'Shape: {df.shape}')"
   ]
  },
  {
   "cell_type": "code",
   "execution_count": 131,
   "metadata": {},
   "outputs": [],
   "source": [
    "df.drop_duplicates(subset=['Attributes'], inplace=True)\n",
    "df.drop_duplicates(subset=['WineName'], inplace=True)\n",
    "df.reset_index(drop=True, inplace=True)"
   ]
  },
  {
   "cell_type": "code",
   "execution_count": 132,
   "metadata": {},
   "outputs": [
    {
     "data": {
      "text/plain": [
       "'Duplicated in Attributes: 0'"
      ]
     },
     "metadata": {},
     "output_type": "display_data"
    },
    {
     "data": {
      "text/plain": [
       "'Duplicated in WineName: 0'"
      ]
     },
     "metadata": {},
     "output_type": "display_data"
    },
    {
     "data": {
      "text/plain": [
       "'Shape: (803, 37)'"
      ]
     },
     "metadata": {},
     "output_type": "display_data"
    }
   ],
   "source": [
    "display(f'Duplicated in Attributes: {df[\"Attributes\"].duplicated().sum()}')\n",
    "display(f'Duplicated in WineName: {df[\"WineName\"].duplicated().sum()}')\n",
    "display(f'Shape: {df.shape}')"
   ]
  },
  {
   "cell_type": "markdown",
   "metadata": {},
   "source": [
    "### Converting 'Attributes' into a TF-IDF Matrix"
   ]
  },
  {
   "cell_type": "code",
   "execution_count": 133,
   "metadata": {},
   "outputs": [
    {
     "data": {
      "text/plain": [
       "(803, 2167)"
      ]
     },
     "execution_count": 133,
     "metadata": {},
     "output_type": "execute_result"
    }
   ],
   "source": [
    "tfidf = TfidfVectorizer()\n",
    "tfidf_matrix = tfidf.fit_transform(df['Attributes'])\n",
    "tfidf_matrix.shape"
   ]
  },
  {
   "cell_type": "markdown",
   "metadata": {},
   "source": [
    "### Computing Cosine Similarity between Wines based on TF-IDF Matrix"
   ]
  },
  {
   "cell_type": "code",
   "execution_count": 134,
   "metadata": {},
   "outputs": [],
   "source": [
    "cosine_sim = linear_kernel(tfidf_matrix, tfidf_matrix)"
   ]
  },
  {
   "cell_type": "code",
   "execution_count": 135,
   "metadata": {},
   "outputs": [],
   "source": [
    "def get_recommendations(WineName):\n",
    "\n",
    "    recommendation = {}\n",
    "\n",
    "    idx = df.index[df['WineName'] == WineName].tolist()[0]\n",
    "    sim_scores = list(enumerate(cosine_sim[idx]))\n",
    "    sim_scores = sorted(sim_scores, key=lambda x: x[1], reverse=True)\n",
    "    sim_scores = sim_scores[1:11]\n",
    "    wine_indices = [i[0] for i in sim_scores]\n",
    "\n",
    "    recommendation = {\n",
    "        'WineName': df['WineName'].iloc[wine_indices],\n",
    "        'Score': [i[1] for i in sim_scores]\n",
    "    }\n",
    "\n",
    "    return pd.DataFrame(recommendation)"
   ]
  },
  {
   "cell_type": "code",
   "execution_count": 136,
   "metadata": {},
   "outputs": [],
   "source": [
    "name = df['WineName'].sample(1).values[0]"
   ]
  },
  {
   "cell_type": "code",
   "execution_count": 137,
   "metadata": {},
   "outputs": [
    {
     "data": {
      "text/plain": [
       "'Recommendation for: Vintage Reserve Chardonnay'"
      ]
     },
     "metadata": {},
     "output_type": "display_data"
    },
    {
     "data": {
      "text/html": [
       "<div>\n",
       "<style scoped>\n",
       "    .dataframe tbody tr th:only-of-type {\n",
       "        vertical-align: middle;\n",
       "    }\n",
       "\n",
       "    .dataframe tbody tr th {\n",
       "        vertical-align: top;\n",
       "    }\n",
       "\n",
       "    .dataframe thead th {\n",
       "        text-align: right;\n",
       "    }\n",
       "</style>\n",
       "<table border=\"1\" class=\"dataframe\">\n",
       "  <thead>\n",
       "    <tr style=\"text-align: right;\">\n",
       "      <th></th>\n",
       "      <th>WineName</th>\n",
       "      <th>Score</th>\n",
       "    </tr>\n",
       "  </thead>\n",
       "  <tbody>\n",
       "    <tr>\n",
       "      <th>660</th>\n",
       "      <td>Heritage Reserve Chardonnay</td>\n",
       "      <td>0.588803</td>\n",
       "    </tr>\n",
       "    <tr>\n",
       "      <th>673</th>\n",
       "      <td>Reserve Chardonnay</td>\n",
       "      <td>0.570574</td>\n",
       "    </tr>\n",
       "    <tr>\n",
       "      <th>646</th>\n",
       "      <td>Vintner s Reserve Chardonnay</td>\n",
       "      <td>0.520297</td>\n",
       "    </tr>\n",
       "    <tr>\n",
       "      <th>665</th>\n",
       "      <td>Brut Vintage</td>\n",
       "      <td>0.410730</td>\n",
       "    </tr>\n",
       "    <tr>\n",
       "      <th>674</th>\n",
       "      <td>Private Collection Chardonnay</td>\n",
       "      <td>0.384664</td>\n",
       "    </tr>\n",
       "    <tr>\n",
       "      <th>46</th>\n",
       "      <td>Brut Classic</td>\n",
       "      <td>0.358627</td>\n",
       "    </tr>\n",
       "    <tr>\n",
       "      <th>659</th>\n",
       "      <td>California Champagne Brut</td>\n",
       "      <td>0.356650</td>\n",
       "    </tr>\n",
       "    <tr>\n",
       "      <th>693</th>\n",
       "      <td>Estate Chardonnay</td>\n",
       "      <td>0.346031</td>\n",
       "    </tr>\n",
       "    <tr>\n",
       "      <th>549</th>\n",
       "      <td>Chardonnay</td>\n",
       "      <td>0.330054</td>\n",
       "    </tr>\n",
       "    <tr>\n",
       "      <th>688</th>\n",
       "      <td>Aquarius Ranch Vineyard Chardonnay</td>\n",
       "      <td>0.313624</td>\n",
       "    </tr>\n",
       "  </tbody>\n",
       "</table>\n",
       "</div>"
      ],
      "text/plain": [
       "                               WineName     Score\n",
       "660         Heritage Reserve Chardonnay  0.588803\n",
       "673                  Reserve Chardonnay  0.570574\n",
       "646        Vintner s Reserve Chardonnay  0.520297\n",
       "665                        Brut Vintage  0.410730\n",
       "674       Private Collection Chardonnay  0.384664\n",
       "46                         Brut Classic  0.358627\n",
       "659           California Champagne Brut  0.356650\n",
       "693                   Estate Chardonnay  0.346031\n",
       "549                          Chardonnay  0.330054\n",
       "688  Aquarius Ranch Vineyard Chardonnay  0.313624"
      ]
     },
     "execution_count": 137,
     "metadata": {},
     "output_type": "execute_result"
    }
   ],
   "source": [
    "display(f'Recommendation for: {name}')\n",
    "get_recommendations(name)"
   ]
  },
  {
   "cell_type": "markdown",
   "metadata": {},
   "source": [
    "### Exporting the model"
   ]
  },
  {
   "cell_type": "code",
   "execution_count": 138,
   "metadata": {},
   "outputs": [
    {
     "data": {
      "text/plain": [
       "['../models/content_based_recommender_model.pkl']"
      ]
     },
     "execution_count": 138,
     "metadata": {},
     "output_type": "execute_result"
    }
   ],
   "source": [
    "joblib.dump((cosine_sim, df), '../models/content_based_recommender_model.pkl')"
   ]
  }
 ],
 "metadata": {
  "kernelspec": {
   "display_name": ".venv",
   "language": "python",
   "name": "python3"
  },
  "language_info": {
   "codemirror_mode": {
    "name": "ipython",
    "version": 3
   },
   "file_extension": ".py",
   "mimetype": "text/x-python",
   "name": "python",
   "nbconvert_exporter": "python",
   "pygments_lexer": "ipython3",
   "version": "3.12.2"
  }
 },
 "nbformat": 4,
 "nbformat_minor": 2
}
